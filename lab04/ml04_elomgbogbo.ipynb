{
 "cells": [
  {
   "cell_type": "markdown",
   "metadata": {},
   "source": [
    "# Lab 4 Project (Titanic)\n",
    "**Author:** Elom Gbogbo \n",
    "\n",
    "**Date:** April 4, 2025\n",
    "\n",
    "**Objective:** Predict a continuous numeric target like fare using the Titanic dataset by building a regression model using key features such as family size, sex, and age."
   ]
  },
  {
   "cell_type": "markdown",
   "metadata": {},
   "source": [
    "\n",
    "\n",
    "## Introduction\n",
    "This project analyzes the Titanic dataset using Seaborn to predict passenger fare based on features like gender, and age. We’ll clean the data, train different regression models, and explore techniques to improve its performance through feature selection and visualization. "
   ]
  },
  {
   "cell_type": "markdown",
   "metadata": {},
   "source": [
    "\n",
    "## Imports\n",
    "In the code cell below, import the necessary Python libraries for this notebook.  "
   ]
  },
  {
   "cell_type": "code",
   "execution_count": 64,
   "metadata": {},
   "outputs": [],
   "source": [
    "\n",
    "# Import pandas for data manipulation and analysis (we might want to do more with it)\n",
    "import pandas as pd\n",
    "\n",
    "# Import pandas for data manipulation and analysis  (we might want to do more with it)\n",
    "import numpy as np\n",
    "\n",
    "# Import matplotlib for creating static visualizations\n",
    "import matplotlib.pyplot as plt\n",
    "\n",
    "# Import seaborn for statistical data visualization (built on matplotlib)\n",
    "import seaborn as sns\n",
    "\n",
    "# Import train_test_split for splitting data into training and test sets\n",
    "from sklearn.model_selection import train_test_split\n",
    "\n",
    "# Import LinearRegression for building a linear regression model\n",
    "from sklearn.linear_model import LinearRegression, Ridge, ElasticNet\n",
    "\n",
    "# Import performance metrics for model evaluation\n",
    "from sklearn.metrics import root_mean_squared_error, mean_absolute_error, r2_score\n",
    "\n",
    "from sklearn.preprocessing import PolynomialFeatures"
   ]
  },
  {
   "cell_type": "markdown",
   "metadata": {},
   "source": [
    "\n",
    "## Section 1. Import and Inspect the Data\n",
    "\n",
    "### Load the Titanic dataset and inspect the data\n",
    "\n",
    "\n"
   ]
  },
  {
   "cell_type": "code",
   "execution_count": 65,
   "metadata": {},
   "outputs": [
    {
     "data": {
      "text/html": [
       "<div>\n",
       "<style scoped>\n",
       "    .dataframe tbody tr th:only-of-type {\n",
       "        vertical-align: middle;\n",
       "    }\n",
       "\n",
       "    .dataframe tbody tr th {\n",
       "        vertical-align: top;\n",
       "    }\n",
       "\n",
       "    .dataframe thead th {\n",
       "        text-align: right;\n",
       "    }\n",
       "</style>\n",
       "<table border=\"1\" class=\"dataframe\">\n",
       "  <thead>\n",
       "    <tr style=\"text-align: right;\">\n",
       "      <th></th>\n",
       "      <th>survived</th>\n",
       "      <th>pclass</th>\n",
       "      <th>sex</th>\n",
       "      <th>age</th>\n",
       "      <th>sibsp</th>\n",
       "      <th>parch</th>\n",
       "      <th>fare</th>\n",
       "      <th>embarked</th>\n",
       "      <th>class</th>\n",
       "      <th>who</th>\n",
       "      <th>adult_male</th>\n",
       "      <th>deck</th>\n",
       "      <th>embark_town</th>\n",
       "      <th>alive</th>\n",
       "      <th>alone</th>\n",
       "    </tr>\n",
       "  </thead>\n",
       "  <tbody>\n",
       "    <tr>\n",
       "      <th>0</th>\n",
       "      <td>0</td>\n",
       "      <td>3</td>\n",
       "      <td>male</td>\n",
       "      <td>22.0</td>\n",
       "      <td>1</td>\n",
       "      <td>0</td>\n",
       "      <td>7.2500</td>\n",
       "      <td>S</td>\n",
       "      <td>Third</td>\n",
       "      <td>man</td>\n",
       "      <td>True</td>\n",
       "      <td>NaN</td>\n",
       "      <td>Southampton</td>\n",
       "      <td>no</td>\n",
       "      <td>False</td>\n",
       "    </tr>\n",
       "    <tr>\n",
       "      <th>1</th>\n",
       "      <td>1</td>\n",
       "      <td>1</td>\n",
       "      <td>female</td>\n",
       "      <td>38.0</td>\n",
       "      <td>1</td>\n",
       "      <td>0</td>\n",
       "      <td>71.2833</td>\n",
       "      <td>C</td>\n",
       "      <td>First</td>\n",
       "      <td>woman</td>\n",
       "      <td>False</td>\n",
       "      <td>C</td>\n",
       "      <td>Cherbourg</td>\n",
       "      <td>yes</td>\n",
       "      <td>False</td>\n",
       "    </tr>\n",
       "    <tr>\n",
       "      <th>2</th>\n",
       "      <td>1</td>\n",
       "      <td>3</td>\n",
       "      <td>female</td>\n",
       "      <td>26.0</td>\n",
       "      <td>0</td>\n",
       "      <td>0</td>\n",
       "      <td>7.9250</td>\n",
       "      <td>S</td>\n",
       "      <td>Third</td>\n",
       "      <td>woman</td>\n",
       "      <td>False</td>\n",
       "      <td>NaN</td>\n",
       "      <td>Southampton</td>\n",
       "      <td>yes</td>\n",
       "      <td>True</td>\n",
       "    </tr>\n",
       "    <tr>\n",
       "      <th>3</th>\n",
       "      <td>1</td>\n",
       "      <td>1</td>\n",
       "      <td>female</td>\n",
       "      <td>35.0</td>\n",
       "      <td>1</td>\n",
       "      <td>0</td>\n",
       "      <td>53.1000</td>\n",
       "      <td>S</td>\n",
       "      <td>First</td>\n",
       "      <td>woman</td>\n",
       "      <td>False</td>\n",
       "      <td>C</td>\n",
       "      <td>Southampton</td>\n",
       "      <td>yes</td>\n",
       "      <td>False</td>\n",
       "    </tr>\n",
       "    <tr>\n",
       "      <th>4</th>\n",
       "      <td>0</td>\n",
       "      <td>3</td>\n",
       "      <td>male</td>\n",
       "      <td>35.0</td>\n",
       "      <td>0</td>\n",
       "      <td>0</td>\n",
       "      <td>8.0500</td>\n",
       "      <td>S</td>\n",
       "      <td>Third</td>\n",
       "      <td>man</td>\n",
       "      <td>True</td>\n",
       "      <td>NaN</td>\n",
       "      <td>Southampton</td>\n",
       "      <td>no</td>\n",
       "      <td>True</td>\n",
       "    </tr>\n",
       "  </tbody>\n",
       "</table>\n",
       "</div>"
      ],
      "text/plain": [
       "   survived  pclass     sex   age  sibsp  parch     fare embarked  class  \\\n",
       "0         0       3    male  22.0      1      0   7.2500        S  Third   \n",
       "1         1       1  female  38.0      1      0  71.2833        C  First   \n",
       "2         1       3  female  26.0      0      0   7.9250        S  Third   \n",
       "3         1       1  female  35.0      1      0  53.1000        S  First   \n",
       "4         0       3    male  35.0      0      0   8.0500        S  Third   \n",
       "\n",
       "     who  adult_male deck  embark_town alive  alone  \n",
       "0    man        True  NaN  Southampton    no  False  \n",
       "1  woman       False    C    Cherbourg   yes  False  \n",
       "2  woman       False  NaN  Southampton   yes   True  \n",
       "3  woman       False    C  Southampton   yes  False  \n",
       "4    man        True  NaN  Southampton    no   True  "
      ]
     },
     "execution_count": 65,
     "metadata": {},
     "output_type": "execute_result"
    }
   ],
   "source": [
    "# Load the Titanic dataset\n",
    "titanic = sns.load_dataset('titanic')\n",
    "titanic.head()"
   ]
  },
  {
   "cell_type": "markdown",
   "metadata": {},
   "source": [
    "## Section 2. Data Exploration and Preparation\n",
    "\n"
   ]
  },
  {
   "cell_type": "markdown",
   "id": "7ad41cb7",
   "metadata": {},
   "source": [
    "Prepare Titanic data for regression modeling."
   ]
  },
  {
   "cell_type": "code",
   "execution_count": 66,
   "id": "f2d3e632",
   "metadata": {},
   "outputs": [],
   "source": [
    "# Impute missing values for age using the median:\n",
    "titanic['age'] = titanic['age'].fillna(titanic['age'].median())\n",
    "\n",
    "# Drop rows with missing fare\n",
    "titanic = titanic.dropna(subset=['fare'])\n",
    "\n",
    "# Create a numerical variables\n",
    "titanic['family_size'] = titanic['sibsp'] + titanic['parch'] + 1\n",
    "\n",
    "# Convert categorical data to numeric:\n",
    "titanic['sex'] = titanic['sex'].map({'male': 0, 'female': 1})"
   ]
  },
  {
   "cell_type": "markdown",
   "id": "6bc4a746",
   "metadata": {},
   "source": [
    "## Section 3. Feature Selection and Justification"
   ]
  },
  {
   "cell_type": "code",
   "execution_count": 67,
   "id": "ef7577cd",
   "metadata": {},
   "outputs": [],
   "source": [
    "# Case #1: age only\n",
    "X1 = titanic[['age']]\n",
    "y1 = titanic['fare']\n",
    "\n",
    "# Case 2: family_size only\n",
    "X2 = titanic[['family_size']]\n",
    "y2 = titanic['fare']\n",
    "\n",
    "# Case 3: age + family_size\n",
    "X3 = titanic[['age', 'family_size']]\n",
    "y3 = titanic['fare']\n",
    "\n",
    "# Case 4. sex only\n",
    "X4 = titanic[['sex']]\n",
    "y4 = titanic['fare']"
   ]
  },
  {
   "cell_type": "markdown",
   "id": "e6651587",
   "metadata": {},
   "source": [
    "Reflection 3 Questions:\n",
    "\n",
    "Why might these features affect a passenger’s fare: I believe that sex, age, and family_size might all have different aspects to affect fare. Discounts might be available based on a group rate of family size, certain ages, and genders. \n",
    "\n",
    "List all available features: survived, pclass, sex, age, sibsp, parch, fare, embarked, class, who, adult_male, deck, embark_town, alive, alone\n",
    "\n",
    "Which other features could improve predictions and why: pclass, people who are more wealthy likely paid more for a ticket \n",
    "\n",
    "How many variables are in your Case 4: 1\n",
    "\n",
    "Which variable(s) did you choose for Case 4 and why do you feel those could make good inputs: When thinking of sex as an input, I believe that sex could affect how much people paid for tickets. I also thought sex would be a good feature to use since it is categorical and binary. Converting it to numerical value is easier for linear regression as well so I believe it could be a good input. "
   ]
  },
  {
   "cell_type": "markdown",
   "metadata": {},
   "source": [
    "## Section 4. Train a Regression Model (Linear Regression)\n",
    "\n",
    "### 4.1 Split the Data \n",
    "\n",
    "\n"
   ]
  },
  {
   "cell_type": "code",
   "execution_count": 68,
   "id": "4f5f0b73",
   "metadata": {},
   "outputs": [],
   "source": [
    "X1_train, X1_test, y1_train, y1_test = train_test_split(X1, y1, test_size=0.2, random_state=123)\n",
    "\n",
    "X2_train, X2_test, y2_train, y2_test = train_test_split(X2, y2, test_size=0.2, random_state=123)\n",
    "\n",
    "X3_train, X3_test, y3_train, y3_test = train_test_split(X3, y3, test_size=0.2, random_state=123)\n",
    "\n",
    "X4_train, X4_test, y4_train, y4_test = train_test_split(X4, y4, test_size=0.2, random_state=123)"
   ]
  },
  {
   "cell_type": "markdown",
   "id": "4f1c33f8",
   "metadata": {},
   "source": [
    "### 4.2 Train and Evaluate Linear Regression Models (all 4 cases)"
   ]
  },
  {
   "cell_type": "code",
   "execution_count": 69,
   "id": "e4b07d01",
   "metadata": {},
   "outputs": [],
   "source": [
    "lr_model1 = LinearRegression().fit(X1_train, y1_train)\n",
    "lr_model2 = LinearRegression().fit(X2_train, y2_train)\n",
    "lr_model3 = LinearRegression().fit(X3_train, y3_train)\n",
    "lr_model4 = LinearRegression().fit(X4_train, y4_train)\n",
    "\n",
    "# Predictions\n",
    "\n",
    "y1_pred_train = lr_model1.predict(X1_train)\n",
    "y1_pred_test = lr_model1.predict(X1_test)\n",
    "\n",
    "y2_pred_train = lr_model2.predict(X2_train)\n",
    "y2_pred_test = lr_model2.predict(X2_test)\n",
    "\n",
    "y3_pred_train = lr_model3.predict(X3_train)\n",
    "y3_pred_test = lr_model3.predict(X3_test)\n",
    "\n",
    "y4_pred_train = lr_model4.predict(X4_train)\n",
    "y4_pred_test = lr_model4.predict(X4_test)"
   ]
  },
  {
   "cell_type": "markdown",
   "id": "1d94e937",
   "metadata": {},
   "source": [
    "### 4.3 Report Performance"
   ]
  },
  {
   "cell_type": "code",
   "execution_count": 70,
   "id": "fff54f07",
   "metadata": {},
   "outputs": [
    {
     "name": "stdout",
     "output_type": "stream",
     "text": [
      "Case 1: Training R²: 0.009950688019452314\n",
      "Case 1: Test R²: 0.0034163395508415295\n",
      "Case 1: Test RMSE: 37.97164180172938\n",
      "Case 1: Test MAE: 25.28637293162364\n",
      "\n",
      "Case 2: Training R²: 0.049915792364760736\n",
      "Case 2: Test R²: 0.022231186110131973\n",
      "Case 2: Test RMSE: 37.6114940041967\n",
      "Case 2: Test MAE: 25.02534815941641\n",
      "\n",
      "Case 3: Training R²: 0.07347466201590014\n",
      "Case 3: Test R²: 0.049784832763073106\n",
      "Case 3: Test RMSE: 37.0777586646559\n",
      "Case 3: Test MAE: 24.284935030470688\n",
      "\n",
      "Case 4: Training R²: 0.023885614755059348\n",
      "Case 4: Test R²: 0.09936584220882583\n",
      "Case 4: Test RMSE: 36.09746477477291\n",
      "Case 4: Test MAE: 24.24249103567552\n"
     ]
    }
   ],
   "source": [
    "# Case 1\n",
    "print(\"Case 1: Training R²:\", r2_score(y1_train, y1_pred_train))\n",
    "print(\"Case 1: Test R²:\", r2_score(y1_test, y1_pred_test))\n",
    "print(\"Case 1: Test RMSE:\", root_mean_squared_error(y1_test, y1_pred_test))\n",
    "print(\"Case 1: Test MAE:\", mean_absolute_error(y1_test, y1_pred_test))\n",
    "print()\n",
    "\n",
    "# Case 2\n",
    "print(\"Case 2: Training R²:\", r2_score(y2_train, y2_pred_train))\n",
    "print(\"Case 2: Test R²:\", r2_score(y2_test, y2_pred_test))\n",
    "print(\"Case 2: Test RMSE:\", root_mean_squared_error(y2_test, y2_pred_test))\n",
    "print(\"Case 2: Test MAE:\", mean_absolute_error(y2_test, y2_pred_test))\n",
    "print()\n",
    "\n",
    "# Case 3\n",
    "print(\"Case 3: Training R²:\", r2_score(y3_train, y3_pred_train))\n",
    "print(\"Case 3: Test R²:\", r2_score(y3_test, y3_pred_test))\n",
    "print(\"Case 3: Test RMSE:\", root_mean_squared_error(y3_test, y3_pred_test))\n",
    "print(\"Case 3: Test MAE:\", mean_absolute_error(y3_test, y3_pred_test))\n",
    "print()\n",
    "\n",
    "# Case 4\n",
    "print(\"Case 4: Training R²:\", r2_score(y4_train, y4_pred_train))\n",
    "print(\"Case 4: Test R²:\", r2_score(y4_test, y4_pred_test))\n",
    "print(\"Case 4: Test RMSE:\", root_mean_squared_error(y4_test, y4_pred_test))\n",
    "print(\"Case 4: Test MAE:\", mean_absolute_error(y4_test, y4_pred_test))\n"
   ]
  },
  {
   "cell_type": "markdown",
   "id": "fbe0b004",
   "metadata": {},
   "source": [
    "Reflection 4:\n",
    "\n",
    "Compare the train vs test results for each.\n",
    "\n",
    "1. Did Case 1 overfit or underfit? Explain: Case 1 shows underfitting. Both the train and test R2 values are very low with high errors indicating that the model did poorly to evaluate this data. \n",
    "2. Did Case 2 overfit or underfit? Explain: Case 2 also shows underfitting. Although the train and test R2 values slightly improved compared to Case 1, it still performed poorly with high errors and remains underfit. \n",
    "3. Did Case 3 overfit or underfit? Explain: Case 3 captured more than the previous cases with higher training R² and test R², but it still has low R² values and high errors, making it underfit.\"\n",
    "4. Did Case 4 overfit or underfit? Explain: Case 4 performed the best, while still being underfit. In training, it had a low R2, but in test, it had the highest R2 of all cases with having the smallest errors. \n",
    "\n",
    "Adding Age\n",
    "\n",
    "1. Did adding age improve the model: Age helped improved the model.\n",
    "2. Propose a possible explanation (consider how age might affect ticket price, and whether the data supports that): Age might affect ticket prices potentially because discounted fare for certain ages - mostly like for children and elders. \n",
    "\n",
    "Worst\n",
    "\n",
    "1. Which case performed the worst: Case 1 was the worst.\n",
    "2. How do you know: The R² had the lowest test score and the worst errors.\n",
    "3. Do you think adding more training data would improve it (and why/why not): It might help the model slightly, but I do not believe it would help significantly. \n",
    "\n",
    "Best\n",
    "\n",
    "1. Which case performed the best: Case 4 was the best. \n",
    "2. How do you know: For starters, the R² was the highest out of the cases. \n",
    "3. Do you think adding more training data would improve it (and why/why not): I think it could help to add more data or select better features like pclass and family size. Adding features will mostly like improve it more than just adding more data. "
   ]
  },
  {
   "cell_type": "markdown",
   "id": "913b5537",
   "metadata": {},
   "source": [
    "## Section 5. Compare Alternative Models\n",
    "\n"
   ]
  },
  {
   "cell_type": "markdown",
   "id": "9dc1e98a",
   "metadata": {},
   "source": [
    "### 5.1 Ridge Regression (L2 penalty)"
   ]
  },
  {
   "cell_type": "code",
   "execution_count": 71,
   "id": "92e7cbd7",
   "metadata": {},
   "outputs": [],
   "source": [
    "ridge_model = Ridge(alpha=1.0)\n",
    "ridge_model.fit(X4_train, y4_train)\n",
    "y_pred_ridge = ridge_model.predict(X4_test)\n"
   ]
  },
  {
   "cell_type": "markdown",
   "id": "5052d1f1",
   "metadata": {},
   "source": [
    "### 5.2 Elastic Net (L1 +L2 combined)"
   ]
  },
  {
   "cell_type": "code",
   "execution_count": 72,
   "id": "78462f80",
   "metadata": {},
   "outputs": [],
   "source": [
    "elastic_model = ElasticNet(alpha=0.3, l1_ratio=0.5)\n",
    "elastic_model.fit(X4_train, y4_train)\n",
    "y_pred_elastic = elastic_model.predict(X4_test)"
   ]
  },
  {
   "cell_type": "markdown",
   "id": "4cab85c3",
   "metadata": {},
   "source": [
    "### 5.3 Polynomial Regression"
   ]
  },
  {
   "cell_type": "code",
   "execution_count": 73,
   "id": "8d795e61",
   "metadata": {},
   "outputs": [],
   "source": [
    "# Set up the poly inputs\n",
    "poly = PolynomialFeatures(degree=3)\n",
    "X_train_poly = poly.fit_transform(X4_train)\n",
    "X_test_poly = poly.transform(X4_test)\n",
    "\n",
    "# Use the poly inputs in the LR model\n",
    "poly_model = LinearRegression()\n",
    "poly_model.fit(X_train_poly, y4_train)\n",
    "y_pred_poly = poly_model.predict(X_test_poly)"
   ]
  },
  {
   "cell_type": "markdown",
   "id": "fadfb6c4",
   "metadata": {},
   "source": [
    "### 5.4 Visualize Polynomial Cubic Fit"
   ]
  },
  {
   "cell_type": "code",
   "execution_count": 74,
   "id": "9efec378",
   "metadata": {},
   "outputs": [
    {
     "data": {
      "image/png": "[encoded data removed]",
      "text/plain": [
       "<Figure size 640x480 with 1 Axes>"
      ]
     },
     "metadata": {},
     "output_type": "display_data"
    }
   ],
   "source": [
    "plt.scatter(X4_test, y4_test, color='blue', label='Actual')\n",
    "plt.scatter(X4_test, y_pred_poly, color='red', label='Predicted (Poly)')\n",
    "plt.legend()\n",
    "plt.title('Polynomial Regression: Sex vs Fare')\n",
    "plt.show()"
   ]
  },
  {
   "cell_type": "markdown",
   "id": "61e34f36",
   "metadata": {},
   "source": [
    "Reflections (in a Markdown cell):\n",
    "\n",
    "1. What patterns does the cubic model seem to capture: The cubic model showed that males and females had different average fares. It also suggests that women paid more than males.\n",
    "2. Where does it perform well or poorly: It performed well for passengers with fares that were closes to the predicted values. It performs poorly for passengers with fares that are far from the predicted averages, like passengers with high fares. (>100)\n",
    "3. Did the polynomial fit outperform linear regression: No, linear regression performed better than polynomial regression for Case 4. \n",
    "4. Where (on the graph or among which kinds of data points) does it fit best: this model fits best for passengers near the predicted values - males with fares close to 0 and females with fares close to 50."
   ]
  },
  {
   "cell_type": "markdown",
   "id": "27e35ead",
   "metadata": {},
   "source": [
    "### 5.4 Compare All Models"
   ]
  },
  {
   "cell_type": "code",
   "execution_count": 75,
   "id": "82bc0736",
   "metadata": {},
   "outputs": [
    {
     "name": "stdout",
     "output_type": "stream",
     "text": [
      "Linear R²: 0.099\n",
      "Linear RMSE: 36.10\n",
      "Linear MAE: 24.24\n",
      "\n",
      "Ridge R²: 0.099\n",
      "Ridge RMSE: 36.10\n",
      "Ridge MAE: 24.24\n",
      "\n",
      "ElasticNet R²: 0.068\n",
      "ElasticNet RMSE: 36.71\n",
      "ElasticNet MAE: 24.33\n",
      "\n",
      "Polynomial R²: 0.099\n",
      "Polynomial RMSE: 36.10\n",
      "Polynomial MAE: 24.24\n",
      "\n"
     ]
    }
   ],
   "source": [
    "def report(name, y_true, y_pred):\n",
    "    print(f\"{name} R²: {r2_score(y_true, y_pred):.3f}\")\n",
    "    print(f\"{name} RMSE: {root_mean_squared_error(y_true, y_pred):.2f}\")\n",
    "    print(f\"{name} MAE: {mean_absolute_error(y_true, y_pred):.2f}\\n\")\n",
    "\n",
    "report(\"Linear\", y4_test, y4_pred_test)\n",
    "report(\"Ridge\", y4_test, y_pred_ridge)\n",
    "report(\"ElasticNet\", y4_test, y_pred_elastic)\n",
    "report(\"Polynomial\", y4_test, y_pred_poly)"
   ]
  },
  {
   "cell_type": "markdown",
   "id": "bdc3b549",
   "metadata": {},
   "source": [
    "### 5.5 Visualize Higher Order Polynomial (for the same 1 input case)\n"
   ]
  },
  {
   "cell_type": "code",
   "execution_count": 76,
   "id": "3101e145",
   "metadata": {},
   "outputs": [],
   "source": [
    "# Set up the poly inputs\n",
    "poly = PolynomialFeatures(degree=4)\n",
    "X_train_poly = poly.fit_transform(X4_train)\n",
    "X_test_poly = poly.transform(X4_test)\n",
    "\n",
    "# Use the poly inputs in the LR model\n",
    "poly_model = LinearRegression()\n",
    "poly_model.fit(X_train_poly, y4_train)\n",
    "y_pred_poly = poly_model.predict(X_test_poly)"
   ]
  },
  {
   "cell_type": "code",
   "execution_count": 77,
   "id": "a7da34f5",
   "metadata": {},
   "outputs": [
    {
     "data": {
      "image/png": "[encoded data removed]",
      "text/plain": [
       "<Figure size 640x480 with 1 Axes>"
      ]
     },
     "metadata": {},
     "output_type": "display_data"
    }
   ],
   "source": [
    "plt.scatter(X4_test, y4_test, color='blue', label='Actual')\n",
    "plt.scatter(X4_test, y_pred_poly, color='red', label='Predicted (Poly)')\n",
    "plt.legend()\n",
    "plt.title('Polynomial Regression: Sex vs Fare')\n",
    "plt.show()"
   ]
  },
  {
   "cell_type": "markdown",
   "id": "169e17cb",
   "metadata": {},
   "source": [
    "### Section 6. Final Thoughts and Insights\n",
    "\n",
    "6.1 Summarize Findings\n",
    "1. What features were most useful? Sex and age were the most useful features in this model but not ideal to predict fare. Sex perfomed the best out of all cases, and age added some improvement in the later cases ran. There are other features that would been a better fit than sex. \n",
    "\n",
    "2. What regression model performed best? Linear regression performed the best as it had the highest R2 test score and lower errors even though all cases were underfit. \n",
    "\n",
    "3. How did model complexity or regularization affect results? Neither model performed well enough to identity fare. Linear regression (the simpler model) did not perform well but when adding complexity with polynomial regression, it did not perform as well either.\n",
    "\n",
    "6.2 Discuss Challenges\n",
    "1. Was fare hard to predict? Why? Fare was hard to predict since the all models were underfit with low R2 values and high error values based of the features selected. If different features like pclass were used, I believe this model would been better executed. \n",
    "\n",
    "2. Did skew or outliers impact the models? I believe that both skew and outlier hurt the performance of the models as there were many low fares and with a few high fares and outliers that made the models underfit from poor performance. \n",
    "\n",
    "6.3 Optional Next Steps\n",
    "1. Try different features besides the ones used (e.g., pclass, sex if you didn't use them this time)\n",
    "\n",
    "2. Try predicting age instead of fare\n",
    "\n",
    "3. Explore log transformation of fare to reduce skew"
   ]
  }
 ],
 "metadata": {
  "kernelspec": {
   "display_name": ".venv",
   "language": "python",
   "name": "python3"
  },
  "language_info": {
   "codemirror_mode": {
    "name": "ipython",
    "version": 3
   },
   "file_extension": ".py",
   "mimetype": "text/x-python",
   "name": "python",
   "nbconvert_exporter": "python",
   "pygments_lexer": "ipython3",
   "version": "3.13.1"
  }
 },
 "nbformat": 4,
 "nbformat_minor": 5
}
